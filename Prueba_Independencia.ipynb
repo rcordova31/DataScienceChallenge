{
 "cells": [
  {
   "cell_type": "code",
   "execution_count": 1,
   "metadata": {},
   "outputs": [],
   "source": [
    "import pandas as pd\n",
    "import matplotlib.pyplot as plt"
   ]
  },
  {
   "cell_type": "code",
   "execution_count": 2,
   "metadata": {},
   "outputs": [],
   "source": [
    "data = pd.read_csv('train.csv')"
   ]
  },
  {
   "cell_type": "code",
   "execution_count": null,
   "metadata": {},
   "outputs": [],
   "source": [
    "SE LEE EL ARCHIVO CSV"
   ]
  },
  {
   "cell_type": "code",
   "execution_count": 3,
   "metadata": {},
   "outputs": [],
   "source": [
    "data = data.set_index('id')"
   ]
  },
  {
   "cell_type": "code",
   "execution_count": null,
   "metadata": {},
   "outputs": [],
   "source": [
    "SETEAMOS EL ID DE LA SOLICITUD COMO INDEX DE LA TABLA"
   ]
  },
  {
   "cell_type": "code",
   "execution_count": 4,
   "metadata": {},
   "outputs": [
    {
     "data": {
      "text/html": [
       "<div>\n",
       "<style scoped>\n",
       "    .dataframe tbody tr th:only-of-type {\n",
       "        vertical-align: middle;\n",
       "    }\n",
       "\n",
       "    .dataframe tbody tr th {\n",
       "        vertical-align: top;\n",
       "    }\n",
       "\n",
       "    .dataframe thead th {\n",
       "        text-align: right;\n",
       "    }\n",
       "</style>\n",
       "<table border=\"1\" class=\"dataframe\">\n",
       "  <thead>\n",
       "    <tr style=\"text-align: right;\">\n",
       "      <th></th>\n",
       "      <th>Loan Amount</th>\n",
       "      <th>Term</th>\n",
       "      <th>State</th>\n",
       "      <th>Annual Income</th>\n",
       "      <th>Income Verification Status</th>\n",
       "      <th>Average Account Balance</th>\n",
       "      <th>Due Amount</th>\n",
       "      <th>Home Ownership</th>\n",
       "      <th>Loan Purpose</th>\n",
       "      <th>Due Settlement</th>\n",
       "      <th>Installment Amount</th>\n",
       "      <th>Payment Plan</th>\n",
       "      <th>Approve Loan</th>\n",
       "    </tr>\n",
       "    <tr>\n",
       "      <th>id</th>\n",
       "      <th></th>\n",
       "      <th></th>\n",
       "      <th></th>\n",
       "      <th></th>\n",
       "      <th></th>\n",
       "      <th></th>\n",
       "      <th></th>\n",
       "      <th></th>\n",
       "      <th></th>\n",
       "      <th></th>\n",
       "      <th></th>\n",
       "      <th></th>\n",
       "      <th></th>\n",
       "    </tr>\n",
       "  </thead>\n",
       "  <tbody>\n",
       "    <tr>\n",
       "      <td>1267</td>\n",
       "      <td>25000.0</td>\n",
       "      <td>36 months</td>\n",
       "      <td>CO</td>\n",
       "      <td>50000.0</td>\n",
       "      <td>Partially Verified</td>\n",
       "      <td>4073.0</td>\n",
       "      <td>783.30</td>\n",
       "      <td>OWN</td>\n",
       "      <td>credit_card</td>\n",
       "      <td>N</td>\n",
       "      <td>783.30</td>\n",
       "      <td>n</td>\n",
       "      <td>1</td>\n",
       "    </tr>\n",
       "    <tr>\n",
       "      <td>1</td>\n",
       "      <td>8000.0</td>\n",
       "      <td>36 months</td>\n",
       "      <td>FL</td>\n",
       "      <td>65000.0</td>\n",
       "      <td>Partially Verified</td>\n",
       "      <td>2298.0</td>\n",
       "      <td>263.78</td>\n",
       "      <td>RENT</td>\n",
       "      <td>debt_consolidation</td>\n",
       "      <td>Y</td>\n",
       "      <td>263.78</td>\n",
       "      <td>n</td>\n",
       "      <td>1</td>\n",
       "    </tr>\n",
       "    <tr>\n",
       "      <td>2219</td>\n",
       "      <td>11000.0</td>\n",
       "      <td>36 months</td>\n",
       "      <td>MI</td>\n",
       "      <td>49000.0</td>\n",
       "      <td>Verified</td>\n",
       "      <td>1441.0</td>\n",
       "      <td>3978.72</td>\n",
       "      <td>MORTGAGE</td>\n",
       "      <td>debt_consolidation</td>\n",
       "      <td>N</td>\n",
       "      <td>342.12</td>\n",
       "      <td>n</td>\n",
       "      <td>1</td>\n",
       "    </tr>\n",
       "    <tr>\n",
       "      <td>453</td>\n",
       "      <td>35000.0</td>\n",
       "      <td>36 months</td>\n",
       "      <td>CA</td>\n",
       "      <td>108000.0</td>\n",
       "      <td>Verified</td>\n",
       "      <td>33603.0</td>\n",
       "      <td>1154.00</td>\n",
       "      <td>MORTGAGE</td>\n",
       "      <td>credit_card</td>\n",
       "      <td>Y</td>\n",
       "      <td>1154.00</td>\n",
       "      <td>n</td>\n",
       "      <td>1</td>\n",
       "    </tr>\n",
       "    <tr>\n",
       "      <td>1108</td>\n",
       "      <td>35000.0</td>\n",
       "      <td>36 months</td>\n",
       "      <td>CA</td>\n",
       "      <td>87000.0</td>\n",
       "      <td>Partially Verified</td>\n",
       "      <td>3399.0</td>\n",
       "      <td>1300.55</td>\n",
       "      <td>RENT</td>\n",
       "      <td>debt_consolidation</td>\n",
       "      <td>Y</td>\n",
       "      <td>1300.55</td>\n",
       "      <td>n</td>\n",
       "      <td>0</td>\n",
       "    </tr>\n",
       "  </tbody>\n",
       "</table>\n",
       "</div>"
      ],
      "text/plain": [
       "      Loan Amount        Term State  Annual Income Income Verification Status  \\\n",
       "id                                                                              \n",
       "1267      25000.0   36 months    CO        50000.0         Partially Verified   \n",
       "1          8000.0   36 months    FL        65000.0         Partially Verified   \n",
       "2219      11000.0   36 months    MI        49000.0                   Verified   \n",
       "453       35000.0   36 months    CA       108000.0                   Verified   \n",
       "1108      35000.0   36 months    CA        87000.0         Partially Verified   \n",
       "\n",
       "      Average Account Balance  Due Amount Home Ownership        Loan Purpose  \\\n",
       "id                                                                             \n",
       "1267                   4073.0      783.30            OWN         credit_card   \n",
       "1                      2298.0      263.78           RENT  debt_consolidation   \n",
       "2219                   1441.0     3978.72       MORTGAGE  debt_consolidation   \n",
       "453                   33603.0     1154.00       MORTGAGE         credit_card   \n",
       "1108                   3399.0     1300.55           RENT  debt_consolidation   \n",
       "\n",
       "     Due Settlement  Installment Amount Payment Plan  Approve Loan  \n",
       "id                                                                  \n",
       "1267              N              783.30            n             1  \n",
       "1                 Y              263.78            n             1  \n",
       "2219              N              342.12            n             1  \n",
       "453               Y             1154.00            n             1  \n",
       "1108              Y             1300.55            n             0  "
      ]
     },
     "execution_count": 4,
     "metadata": {},
     "output_type": "execute_result"
    }
   ],
   "source": [
    "data.head()"
   ]
  },
  {
   "cell_type": "code",
   "execution_count": null,
   "metadata": {},
   "outputs": [],
   "source": [
    "SE HACE UNA REVISIÓN DE LOS CAMPOS DE LA TABLA, ALGUNOS NO HACEN SENTIDO TENERLOS DENTRO DEL MODELO DEBIDO A QUE SON CATEGÓRICOS Y NO TAN\n",
    "RELEVANTES PARA DETERMINAR SI SE DEBE OTORGAR UN PRÉSTAMO. HAY MÁS DE 5 ESTADOS Y MÁS DE 5 MOTIVOS DE PRÉSTAMOS, QUE EN REALIDAD NO HACEN\n",
    "NINGUNA DIFERENCIA. POR LO TANTO DROPEAMOS AQUELLAS COLUMNAS"
   ]
  },
  {
   "cell_type": "code",
   "execution_count": 6,
   "metadata": {},
   "outputs": [],
   "source": [
    "data = data.drop(['State','Loan Purpose'],axis=1)"
   ]
  },
  {
   "cell_type": "code",
   "execution_count": null,
   "metadata": {},
   "outputs": [],
   "source": [
    "DROPEAMOS LAS COLUMNAS QUE NO VAMOS A UTILIZAR"
   ]
  },
  {
   "cell_type": "code",
   "execution_count": 7,
   "metadata": {},
   "outputs": [
    {
     "data": {
      "text/plain": [
       "Loan Amount                    94\n",
       "Term                           44\n",
       "Annual Income                  72\n",
       "Income Verification Status     15\n",
       "Average Account Balance       106\n",
       "Due Amount                     41\n",
       "Home Ownership                 36\n",
       "Due Settlement                107\n",
       "Installment Amount             16\n",
       "Payment Plan                   37\n",
       "Approve Loan                    0\n",
       "dtype: int64"
      ]
     },
     "execution_count": 7,
     "metadata": {},
     "output_type": "execute_result"
    }
   ],
   "source": [
    "data.isna().sum()"
   ]
  },
  {
   "cell_type": "code",
   "execution_count": null,
   "metadata": {},
   "outputs": [],
   "source": [
    "REVISAMOS SI NUESTRA TABLA CUENTA CON COLUMNAS NULAS. AL NO SER MÁS DEL 30% DE NUESTRA DATA, PODEMOS DROPEAR AQUELLAS FILAS CON DATOS\n",
    "INCOMPLETOS."
   ]
  },
  {
   "cell_type": "code",
   "execution_count": 8,
   "metadata": {},
   "outputs": [
    {
     "data": {
      "text/plain": [
       "(1894, 11)"
      ]
     },
     "execution_count": 8,
     "metadata": {},
     "output_type": "execute_result"
    }
   ],
   "source": [
    "data.shape"
   ]
  },
  {
   "cell_type": "code",
   "execution_count": 9,
   "metadata": {},
   "outputs": [
    {
     "data": {
      "text/plain": [
       "(1396, 11)"
      ]
     },
     "execution_count": 9,
     "metadata": {},
     "output_type": "execute_result"
    }
   ],
   "source": [
    "data = data.dropna()\n",
    "data.shape"
   ]
  },
  {
   "cell_type": "code",
   "execution_count": null,
   "metadata": {},
   "outputs": [],
   "source": [
    "SE DROPEAN AQUELLAS FILAS NULAS."
   ]
  },
  {
   "cell_type": "code",
   "execution_count": 10,
   "metadata": {},
   "outputs": [],
   "source": [
    "y = data['Approve Loan']\n",
    "x = data[['Loan Amount','Term','Annual Income','Income Verification Status','Average Account Balance',\n",
    "          'Due Amount','Home Ownership','Due Settlement','Installment Amount','Payment Plan']]"
   ]
  },
  {
   "cell_type": "code",
   "execution_count": null,
   "metadata": {},
   "outputs": [],
   "source": [
    "ASIGNAMOS NUESTRA VARIABLE DEPENDIENTE \"APPROVE LOAN\" A LA VARIABLE Y\n",
    "ASIGNAMOS NUETRAS VARIABLES INDEPENDIENTES A LA VARIABLE X"
   ]
  },
  {
   "cell_type": "code",
   "execution_count": 11,
   "metadata": {},
   "outputs": [],
   "source": [
    "x = pd.get_dummies(x)"
   ]
  },
  {
   "cell_type": "code",
   "execution_count": 12,
   "metadata": {},
   "outputs": [
    {
     "data": {
      "text/html": [
       "<div>\n",
       "<style scoped>\n",
       "    .dataframe tbody tr th:only-of-type {\n",
       "        vertical-align: middle;\n",
       "    }\n",
       "\n",
       "    .dataframe tbody tr th {\n",
       "        vertical-align: top;\n",
       "    }\n",
       "\n",
       "    .dataframe thead th {\n",
       "        text-align: right;\n",
       "    }\n",
       "</style>\n",
       "<table border=\"1\" class=\"dataframe\">\n",
       "  <thead>\n",
       "    <tr style=\"text-align: right;\">\n",
       "      <th></th>\n",
       "      <th>Loan Amount</th>\n",
       "      <th>Annual Income</th>\n",
       "      <th>Average Account Balance</th>\n",
       "      <th>Due Amount</th>\n",
       "      <th>Installment Amount</th>\n",
       "      <th>Term_ 36 months</th>\n",
       "      <th>Term_ 60 months</th>\n",
       "      <th>Income Verification Status_Not Verified</th>\n",
       "      <th>Income Verification Status_Partially Verified</th>\n",
       "      <th>Income Verification Status_Verified</th>\n",
       "      <th>Home Ownership_ANY</th>\n",
       "      <th>Home Ownership_MORTGAGE</th>\n",
       "      <th>Home Ownership_OWN</th>\n",
       "      <th>Home Ownership_RENT</th>\n",
       "      <th>Due Settlement_N</th>\n",
       "      <th>Due Settlement_Y</th>\n",
       "      <th>Payment Plan_n</th>\n",
       "    </tr>\n",
       "    <tr>\n",
       "      <th>id</th>\n",
       "      <th></th>\n",
       "      <th></th>\n",
       "      <th></th>\n",
       "      <th></th>\n",
       "      <th></th>\n",
       "      <th></th>\n",
       "      <th></th>\n",
       "      <th></th>\n",
       "      <th></th>\n",
       "      <th></th>\n",
       "      <th></th>\n",
       "      <th></th>\n",
       "      <th></th>\n",
       "      <th></th>\n",
       "      <th></th>\n",
       "      <th></th>\n",
       "      <th></th>\n",
       "    </tr>\n",
       "  </thead>\n",
       "  <tbody>\n",
       "    <tr>\n",
       "      <td>1267</td>\n",
       "      <td>25000.0</td>\n",
       "      <td>50000.0</td>\n",
       "      <td>4073.0</td>\n",
       "      <td>783.30</td>\n",
       "      <td>783.30</td>\n",
       "      <td>1</td>\n",
       "      <td>0</td>\n",
       "      <td>0</td>\n",
       "      <td>1</td>\n",
       "      <td>0</td>\n",
       "      <td>0</td>\n",
       "      <td>0</td>\n",
       "      <td>1</td>\n",
       "      <td>0</td>\n",
       "      <td>1</td>\n",
       "      <td>0</td>\n",
       "      <td>1</td>\n",
       "    </tr>\n",
       "    <tr>\n",
       "      <td>1</td>\n",
       "      <td>8000.0</td>\n",
       "      <td>65000.0</td>\n",
       "      <td>2298.0</td>\n",
       "      <td>263.78</td>\n",
       "      <td>263.78</td>\n",
       "      <td>1</td>\n",
       "      <td>0</td>\n",
       "      <td>0</td>\n",
       "      <td>1</td>\n",
       "      <td>0</td>\n",
       "      <td>0</td>\n",
       "      <td>0</td>\n",
       "      <td>0</td>\n",
       "      <td>1</td>\n",
       "      <td>0</td>\n",
       "      <td>1</td>\n",
       "      <td>1</td>\n",
       "    </tr>\n",
       "    <tr>\n",
       "      <td>2219</td>\n",
       "      <td>11000.0</td>\n",
       "      <td>49000.0</td>\n",
       "      <td>1441.0</td>\n",
       "      <td>3978.72</td>\n",
       "      <td>342.12</td>\n",
       "      <td>1</td>\n",
       "      <td>0</td>\n",
       "      <td>0</td>\n",
       "      <td>0</td>\n",
       "      <td>1</td>\n",
       "      <td>0</td>\n",
       "      <td>1</td>\n",
       "      <td>0</td>\n",
       "      <td>0</td>\n",
       "      <td>1</td>\n",
       "      <td>0</td>\n",
       "      <td>1</td>\n",
       "    </tr>\n",
       "    <tr>\n",
       "      <td>453</td>\n",
       "      <td>35000.0</td>\n",
       "      <td>108000.0</td>\n",
       "      <td>33603.0</td>\n",
       "      <td>1154.00</td>\n",
       "      <td>1154.00</td>\n",
       "      <td>1</td>\n",
       "      <td>0</td>\n",
       "      <td>0</td>\n",
       "      <td>0</td>\n",
       "      <td>1</td>\n",
       "      <td>0</td>\n",
       "      <td>1</td>\n",
       "      <td>0</td>\n",
       "      <td>0</td>\n",
       "      <td>0</td>\n",
       "      <td>1</td>\n",
       "      <td>1</td>\n",
       "    </tr>\n",
       "    <tr>\n",
       "      <td>1108</td>\n",
       "      <td>35000.0</td>\n",
       "      <td>87000.0</td>\n",
       "      <td>3399.0</td>\n",
       "      <td>1300.55</td>\n",
       "      <td>1300.55</td>\n",
       "      <td>1</td>\n",
       "      <td>0</td>\n",
       "      <td>0</td>\n",
       "      <td>1</td>\n",
       "      <td>0</td>\n",
       "      <td>0</td>\n",
       "      <td>0</td>\n",
       "      <td>0</td>\n",
       "      <td>1</td>\n",
       "      <td>0</td>\n",
       "      <td>1</td>\n",
       "      <td>1</td>\n",
       "    </tr>\n",
       "  </tbody>\n",
       "</table>\n",
       "</div>"
      ],
      "text/plain": [
       "      Loan Amount  Annual Income  Average Account Balance  Due Amount  \\\n",
       "id                                                                      \n",
       "1267      25000.0        50000.0                   4073.0      783.30   \n",
       "1          8000.0        65000.0                   2298.0      263.78   \n",
       "2219      11000.0        49000.0                   1441.0     3978.72   \n",
       "453       35000.0       108000.0                  33603.0     1154.00   \n",
       "1108      35000.0        87000.0                   3399.0     1300.55   \n",
       "\n",
       "      Installment Amount  Term_ 36 months  Term_ 60 months  \\\n",
       "id                                                           \n",
       "1267              783.30                1                0   \n",
       "1                 263.78                1                0   \n",
       "2219              342.12                1                0   \n",
       "453              1154.00                1                0   \n",
       "1108             1300.55                1                0   \n",
       "\n",
       "      Income Verification Status_Not Verified  \\\n",
       "id                                              \n",
       "1267                                        0   \n",
       "1                                           0   \n",
       "2219                                        0   \n",
       "453                                         0   \n",
       "1108                                        0   \n",
       "\n",
       "      Income Verification Status_Partially Verified  \\\n",
       "id                                                    \n",
       "1267                                              1   \n",
       "1                                                 1   \n",
       "2219                                              0   \n",
       "453                                               0   \n",
       "1108                                              1   \n",
       "\n",
       "      Income Verification Status_Verified  Home Ownership_ANY  \\\n",
       "id                                                              \n",
       "1267                                    0                   0   \n",
       "1                                       0                   0   \n",
       "2219                                    1                   0   \n",
       "453                                     1                   0   \n",
       "1108                                    0                   0   \n",
       "\n",
       "      Home Ownership_MORTGAGE  Home Ownership_OWN  Home Ownership_RENT  \\\n",
       "id                                                                       \n",
       "1267                        0                   1                    0   \n",
       "1                           0                   0                    1   \n",
       "2219                        1                   0                    0   \n",
       "453                         1                   0                    0   \n",
       "1108                        0                   0                    1   \n",
       "\n",
       "      Due Settlement_N  Due Settlement_Y  Payment Plan_n  \n",
       "id                                                        \n",
       "1267                 1                 0               1  \n",
       "1                    0                 1               1  \n",
       "2219                 1                 0               1  \n",
       "453                  0                 1               1  \n",
       "1108                 0                 1               1  "
      ]
     },
     "execution_count": 12,
     "metadata": {},
     "output_type": "execute_result"
    }
   ],
   "source": [
    "x.head()"
   ]
  },
  {
   "cell_type": "code",
   "execution_count": null,
   "metadata": {},
   "outputs": [],
   "source": [
    "LA FUNCIÓN GET DUMMIES NOS AYUDA A PIVOTEAR AQUELLAS COLUMNAS CON VARIABLES CATEGÓRICAS, YA QUE NO DEBERÍAMOS METER COLUMNAS CON DATOS STRINGS\n",
    "DENTRO DE NUESTRO MODELO PREDICTIVO. POR EJEMPLO, LA COLUMNA \"TERM\" NOS DECIA SI EL CLIENTE IBA A PAGAR EN UN PLAZO DE 36 O 60 MESES,\n",
    "AHORA QUE SE SEPARO EN 2, E ASIGNARÁ EL VALOR DE 1 AL PLAZO QUE CORRESPONDA."
   ]
  },
  {
   "cell_type": "code",
   "execution_count": 14,
   "metadata": {},
   "outputs": [],
   "source": [
    "def normalize(df):\n",
    "    result = df.copy()\n",
    "    for feature_name in df.columns:\n",
    "        max_value = df[feature_name].max()\n",
    "        min_value = df[feature_name].min()\n",
    "        result[feature_name] = (df[feature_name] - min_value) / (max_value - min_value)\n",
    "    return result\n",
    "\n",
    "x = normalize(x)\n",
    "x = x.fillna(0)"
   ]
  },
  {
   "cell_type": "code",
   "execution_count": 15,
   "metadata": {},
   "outputs": [
    {
     "data": {
      "text/html": [
       "<div>\n",
       "<style scoped>\n",
       "    .dataframe tbody tr th:only-of-type {\n",
       "        vertical-align: middle;\n",
       "    }\n",
       "\n",
       "    .dataframe tbody tr th {\n",
       "        vertical-align: top;\n",
       "    }\n",
       "\n",
       "    .dataframe thead th {\n",
       "        text-align: right;\n",
       "    }\n",
       "</style>\n",
       "<table border=\"1\" class=\"dataframe\">\n",
       "  <thead>\n",
       "    <tr style=\"text-align: right;\">\n",
       "      <th></th>\n",
       "      <th>Loan Amount</th>\n",
       "      <th>Annual Income</th>\n",
       "      <th>Average Account Balance</th>\n",
       "      <th>Due Amount</th>\n",
       "      <th>Installment Amount</th>\n",
       "      <th>Term_ 36 months</th>\n",
       "      <th>Term_ 60 months</th>\n",
       "      <th>Income Verification Status_Not Verified</th>\n",
       "      <th>Income Verification Status_Partially Verified</th>\n",
       "      <th>Income Verification Status_Verified</th>\n",
       "      <th>Home Ownership_ANY</th>\n",
       "      <th>Home Ownership_MORTGAGE</th>\n",
       "      <th>Home Ownership_OWN</th>\n",
       "      <th>Home Ownership_RENT</th>\n",
       "      <th>Due Settlement_N</th>\n",
       "      <th>Due Settlement_Y</th>\n",
       "      <th>Payment Plan_n</th>\n",
       "    </tr>\n",
       "    <tr>\n",
       "      <th>id</th>\n",
       "      <th></th>\n",
       "      <th></th>\n",
       "      <th></th>\n",
       "      <th></th>\n",
       "      <th></th>\n",
       "      <th></th>\n",
       "      <th></th>\n",
       "      <th></th>\n",
       "      <th></th>\n",
       "      <th></th>\n",
       "      <th></th>\n",
       "      <th></th>\n",
       "      <th></th>\n",
       "      <th></th>\n",
       "      <th></th>\n",
       "      <th></th>\n",
       "      <th></th>\n",
       "    </tr>\n",
       "  </thead>\n",
       "  <tbody>\n",
       "    <tr>\n",
       "      <td>1267</td>\n",
       "      <td>0.615385</td>\n",
       "      <td>0.092628</td>\n",
       "      <td>0.032752</td>\n",
       "      <td>0.019355</td>\n",
       "      <td>0.511057</td>\n",
       "      <td>1.0</td>\n",
       "      <td>0.0</td>\n",
       "      <td>0.0</td>\n",
       "      <td>1.0</td>\n",
       "      <td>0.0</td>\n",
       "      <td>0.0</td>\n",
       "      <td>0.0</td>\n",
       "      <td>1.0</td>\n",
       "      <td>0.0</td>\n",
       "      <td>1.0</td>\n",
       "      <td>0.0</td>\n",
       "      <td>0.0</td>\n",
       "    </tr>\n",
       "    <tr>\n",
       "      <td>1</td>\n",
       "      <td>0.179487</td>\n",
       "      <td>0.120983</td>\n",
       "      <td>0.018419</td>\n",
       "      <td>0.006518</td>\n",
       "      <td>0.158546</td>\n",
       "      <td>1.0</td>\n",
       "      <td>0.0</td>\n",
       "      <td>0.0</td>\n",
       "      <td>1.0</td>\n",
       "      <td>0.0</td>\n",
       "      <td>0.0</td>\n",
       "      <td>0.0</td>\n",
       "      <td>0.0</td>\n",
       "      <td>1.0</td>\n",
       "      <td>0.0</td>\n",
       "      <td>1.0</td>\n",
       "      <td>0.0</td>\n",
       "    </tr>\n",
       "    <tr>\n",
       "      <td>2219</td>\n",
       "      <td>0.256410</td>\n",
       "      <td>0.090737</td>\n",
       "      <td>0.011499</td>\n",
       "      <td>0.098310</td>\n",
       "      <td>0.211702</td>\n",
       "      <td>1.0</td>\n",
       "      <td>0.0</td>\n",
       "      <td>0.0</td>\n",
       "      <td>0.0</td>\n",
       "      <td>1.0</td>\n",
       "      <td>0.0</td>\n",
       "      <td>1.0</td>\n",
       "      <td>0.0</td>\n",
       "      <td>0.0</td>\n",
       "      <td>1.0</td>\n",
       "      <td>0.0</td>\n",
       "      <td>0.0</td>\n",
       "    </tr>\n",
       "    <tr>\n",
       "      <td>453</td>\n",
       "      <td>0.871795</td>\n",
       "      <td>0.202268</td>\n",
       "      <td>0.271207</td>\n",
       "      <td>0.028514</td>\n",
       "      <td>0.762588</td>\n",
       "      <td>1.0</td>\n",
       "      <td>0.0</td>\n",
       "      <td>0.0</td>\n",
       "      <td>0.0</td>\n",
       "      <td>1.0</td>\n",
       "      <td>0.0</td>\n",
       "      <td>1.0</td>\n",
       "      <td>0.0</td>\n",
       "      <td>0.0</td>\n",
       "      <td>0.0</td>\n",
       "      <td>1.0</td>\n",
       "      <td>0.0</td>\n",
       "    </tr>\n",
       "    <tr>\n",
       "      <td>1108</td>\n",
       "      <td>0.871795</td>\n",
       "      <td>0.162571</td>\n",
       "      <td>0.027310</td>\n",
       "      <td>0.032135</td>\n",
       "      <td>0.862027</td>\n",
       "      <td>1.0</td>\n",
       "      <td>0.0</td>\n",
       "      <td>0.0</td>\n",
       "      <td>1.0</td>\n",
       "      <td>0.0</td>\n",
       "      <td>0.0</td>\n",
       "      <td>0.0</td>\n",
       "      <td>0.0</td>\n",
       "      <td>1.0</td>\n",
       "      <td>0.0</td>\n",
       "      <td>1.0</td>\n",
       "      <td>0.0</td>\n",
       "    </tr>\n",
       "  </tbody>\n",
       "</table>\n",
       "</div>"
      ],
      "text/plain": [
       "      Loan Amount  Annual Income  Average Account Balance  Due Amount  \\\n",
       "id                                                                      \n",
       "1267     0.615385       0.092628                 0.032752    0.019355   \n",
       "1        0.179487       0.120983                 0.018419    0.006518   \n",
       "2219     0.256410       0.090737                 0.011499    0.098310   \n",
       "453      0.871795       0.202268                 0.271207    0.028514   \n",
       "1108     0.871795       0.162571                 0.027310    0.032135   \n",
       "\n",
       "      Installment Amount  Term_ 36 months  Term_ 60 months  \\\n",
       "id                                                           \n",
       "1267            0.511057              1.0              0.0   \n",
       "1               0.158546              1.0              0.0   \n",
       "2219            0.211702              1.0              0.0   \n",
       "453             0.762588              1.0              0.0   \n",
       "1108            0.862027              1.0              0.0   \n",
       "\n",
       "      Income Verification Status_Not Verified  \\\n",
       "id                                              \n",
       "1267                                      0.0   \n",
       "1                                         0.0   \n",
       "2219                                      0.0   \n",
       "453                                       0.0   \n",
       "1108                                      0.0   \n",
       "\n",
       "      Income Verification Status_Partially Verified  \\\n",
       "id                                                    \n",
       "1267                                            1.0   \n",
       "1                                               1.0   \n",
       "2219                                            0.0   \n",
       "453                                             0.0   \n",
       "1108                                            1.0   \n",
       "\n",
       "      Income Verification Status_Verified  Home Ownership_ANY  \\\n",
       "id                                                              \n",
       "1267                                  0.0                 0.0   \n",
       "1                                     0.0                 0.0   \n",
       "2219                                  1.0                 0.0   \n",
       "453                                   1.0                 0.0   \n",
       "1108                                  0.0                 0.0   \n",
       "\n",
       "      Home Ownership_MORTGAGE  Home Ownership_OWN  Home Ownership_RENT  \\\n",
       "id                                                                       \n",
       "1267                      0.0                 1.0                  0.0   \n",
       "1                         0.0                 0.0                  1.0   \n",
       "2219                      1.0                 0.0                  0.0   \n",
       "453                       1.0                 0.0                  0.0   \n",
       "1108                      0.0                 0.0                  1.0   \n",
       "\n",
       "      Due Settlement_N  Due Settlement_Y  Payment Plan_n  \n",
       "id                                                        \n",
       "1267               1.0               0.0             0.0  \n",
       "1                  0.0               1.0             0.0  \n",
       "2219               1.0               0.0             0.0  \n",
       "453                0.0               1.0             0.0  \n",
       "1108               0.0               1.0             0.0  "
      ]
     },
     "execution_count": 15,
     "metadata": {},
     "output_type": "execute_result"
    }
   ],
   "source": [
    "x.head()"
   ]
  },
  {
   "cell_type": "code",
   "execution_count": null,
   "metadata": {},
   "outputs": [],
   "source": [
    "SE NORAMLIZAN LOS DATOS PARA QUE TODOS LOS VALORES ESTEN DENTRO DEL MISMO INTERVALO NUMÉRICO."
   ]
  },
  {
   "cell_type": "code",
   "execution_count": 16,
   "metadata": {},
   "outputs": [],
   "source": [
    "from sklearn.model_selection import cross_val_score, GridSearchCV, KFold, RandomizedSearchCV, train_test_split\n",
    "X_train, X_test, y_train, y_test = train_test_split(x, y, test_size=0.3, random_state=1)"
   ]
  },
  {
   "cell_type": "code",
   "execution_count": null,
   "metadata": {},
   "outputs": [],
   "source": [
    "DIVIDIMOS EL DATASET EN TRAIN Y TEST PARA EVALUAR EL ACCURACY DEL MODELO PREDICTIVO"
   ]
  },
  {
   "cell_type": "code",
   "execution_count": 18,
   "metadata": {},
   "outputs": [
    {
     "data": {
      "text/plain": [
       "XGBClassifier(base_score=0.5, booster='gbtree', colsample_bylevel=1,\n",
       "              colsample_bynode=1, colsample_bytree=1, eval_metric='auc',\n",
       "              gamma=0, learning_rate=0.1, max_delta_step=0, max_depth=3,\n",
       "              min_child_weight=1, missing=None, n_estimators=100, n_jobs=1,\n",
       "              nthread=None, objective='binary:logistic', random_state=0,\n",
       "              reg_alpha=0, reg_lambda=1, scale_pos_weight=1, seed=None,\n",
       "              silent=None, subsample=1, verbosity=1)"
      ]
     },
     "execution_count": 18,
     "metadata": {},
     "output_type": "execute_result"
    }
   ],
   "source": [
    "import xgboost as xgb\n",
    "\n",
    "xgb_model = xgb.XGBClassifier(objective=\"binary:logistic\", eval_metric=\"auc\")\n",
    "xgb_model.fit(X_train, y_train)"
   ]
  },
  {
   "cell_type": "code",
   "execution_count": null,
   "metadata": {},
   "outputs": [],
   "source": [
    "EL MODELO XGBOOST ESTÁ FORMADO POR ARBOLES DE DECISION CON RESULTADOS POTENCIADOS, ESTO SE DEBE AL PROCESAMIENTO SECUENCIAL DE LA DATA\n",
    "CON UNA FUNCIÓN DE COSTO, LO CUAL MINIMIZA EL ERROR ITERACIÓN TRAS ITERACIÓN. MUY PARECIDO A UNA RED NEURONAL. "
   ]
  },
  {
   "cell_type": "code",
   "execution_count": 19,
   "metadata": {},
   "outputs": [
    {
     "data": {
      "text/plain": [
       "0.8496420047732697"
      ]
     },
     "execution_count": 19,
     "metadata": {},
     "output_type": "execute_result"
    }
   ],
   "source": [
    "y_pred = xgb_model.predict(X_test)\n",
    "from sklearn.metrics import auc, accuracy_score, confusion_matrix, mean_squared_error\n",
    "accuracy_score(y_test, y_pred)"
   ]
  },
  {
   "cell_type": "code",
   "execution_count": null,
   "metadata": {},
   "outputs": [],
   "source": [
    "LA PRECISIÓN DEL MODELO ES DE 84.96%. ESTO QUIERE DECIR QUE 8 DE CADA 10 PRÉSTAMOS ESTAN CORRECTAMENTE CLASIFICADOS."
   ]
  },
  {
   "cell_type": "code",
   "execution_count": 20,
   "metadata": {},
   "outputs": [
    {
     "data": {
      "image/png": "[encoded data removed]",
      "text/plain": [
       "<Figure size 1440x720 with 1 Axes>"
      ]
     },
     "metadata": {
      "needs_background": "light"
     },
     "output_type": "display_data"
    }
   ],
   "source": [
    "fig, ax = plt.subplots(figsize=(20, 10))\n",
    "xgb.plot_importance(xgb_model, ax=ax)\n",
    "plt.show()"
   ]
  },
  {
   "cell_type": "code",
   "execution_count": null,
   "metadata": {},
   "outputs": [],
   "source": [
    "LA VARIABLES MÁS SIGNIFICATIVA PARA PREDECIR LA CLASIFICACIÓN SON EL PAGO MENSUAL EN CASO SE DE EL PRÉSTAMO, LA CANTIDAD SOLICITADA Y SUS\n",
    "INGRESOS ANUALES."
   ]
  },
  {
   "cell_type": "code",
   "execution_count": null,
   "metadata": {},
   "outputs": [],
   "source": []
  },
  {
   "cell_type": "code",
   "execution_count": null,
   "metadata": {},
   "outputs": [],
   "source": [
    "AHORA PROCEDEMOS A OBTENER LOS RESULTADOS DEL DATA SET DE TEST.CSV, A ESTE SET DE DATOS SE LE DA EL MISMO TRATAMIENTO QUE AL TRAIN.CSV"
   ]
  },
  {
   "cell_type": "code",
   "execution_count": 21,
   "metadata": {},
   "outputs": [],
   "source": [
    "data_test = pd.read_csv('test.csv')"
   ]
  },
  {
   "cell_type": "code",
   "execution_count": 22,
   "metadata": {},
   "outputs": [],
   "source": [
    "data_test = data_test.set_index('id')"
   ]
  },
  {
   "cell_type": "code",
   "execution_count": 23,
   "metadata": {},
   "outputs": [],
   "source": [
    "data_test = data_test.drop(['State','Loan Purpose'],axis=1)"
   ]
  },
  {
   "cell_type": "code",
   "execution_count": 24,
   "metadata": {},
   "outputs": [
    {
     "data": {
      "text/plain": [
       "Loan Amount                   0\n",
       "Term                          0\n",
       "Annual Income                 0\n",
       "Income Verification Status    0\n",
       "Average Account Balance       0\n",
       "Due Amount                    0\n",
       "Home Ownership                0\n",
       "Due Settlement                0\n",
       "Installment Amount            0\n",
       "Payment Plan                  0\n",
       "dtype: int64"
      ]
     },
     "execution_count": 24,
     "metadata": {},
     "output_type": "execute_result"
    }
   ],
   "source": [
    "data_test.isna().sum()"
   ]
  },
  {
   "cell_type": "code",
   "execution_count": 25,
   "metadata": {},
   "outputs": [],
   "source": [
    "x_test = pd.get_dummies(data_test)"
   ]
  },
  {
   "cell_type": "code",
   "execution_count": 26,
   "metadata": {},
   "outputs": [],
   "source": [
    "x_test = normalize(x_test)"
   ]
  },
  {
   "cell_type": "code",
   "execution_count": 27,
   "metadata": {},
   "outputs": [],
   "source": [
    "y_pred_test = xgb_model.predict(x_test)"
   ]
  },
  {
   "cell_type": "code",
   "execution_count": 28,
   "metadata": {},
   "outputs": [],
   "source": [
    "y_pred_test = pd.DataFrame(y_pred_test)"
   ]
  },
  {
   "cell_type": "code",
   "execution_count": 29,
   "metadata": {},
   "outputs": [],
   "source": [
    "x_test = x_test.reset_index()\n",
    "identificador = x_test['id']"
   ]
  },
  {
   "cell_type": "code",
   "execution_count": null,
   "metadata": {},
   "outputs": [],
   "source": [
    "GUARDAMOS LOS ARCHIVOS EN CSV Y TENEMOS LOS RESULTADOS"
   ]
  },
  {
   "cell_type": "code",
   "execution_count": 30,
   "metadata": {},
   "outputs": [
    {
     "name": "stderr",
     "output_type": "stream",
     "text": [
      "/usr/local/lib/python3.7/site-packages/ipykernel_launcher.py:1: FutureWarning: The signature of `Series.to_csv` was aligned to that of `DataFrame.to_csv`, and argument 'header' will change its default value from False to True: please pass an explicit value to suppress this warning.\n",
      "  \"\"\"Entry point for launching an IPython kernel.\n"
     ]
    }
   ],
   "source": [
    "identificador.to_csv('id.csv')\n",
    "y_pred_test.to_csv('prediccion.csv')"
   ]
  }
 ],
 "metadata": {
  "kernelspec": {
   "display_name": "Python 3",
   "language": "python",
   "name": "python3"
  },
  "language_info": {
   "codemirror_mode": {
    "name": "ipython",
    "version": 3
   },
   "file_extension": ".py",
   "mimetype": "text/x-python",
   "name": "python",
   "nbconvert_exporter": "python",
   "pygments_lexer": "ipython3",
   "version": "3.7.4"
  }
 },
 "nbformat": 4,
 "nbformat_minor": 4
}
